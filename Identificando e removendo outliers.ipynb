{
 "cells": [
  {
   "cell_type": "markdown",
   "metadata": {},
   "source": [
    "# Relatório de Análise VII"
   ]
  },
  {
   "cell_type": "markdown",
   "metadata": {},
   "source": [
    "## Identificando e Removendo Outliers"
   ]
  },
  {
   "cell_type": "code",
   "execution_count": 3,
   "metadata": {},
   "outputs": [],
   "source": [
    "%matplotlib inline\n",
    "import pandas as pd\n",
    "import matplotlib.pyplot as plt\n",
    "plt.rc('figure',figsize = (14,6))"
   ]
  },
  {
   "cell_type": "code",
   "execution_count": 2,
   "metadata": {},
   "outputs": [
    {
     "data": {
      "text/html": [
       "<div>\n",
       "<style scoped>\n",
       "    .dataframe tbody tr th:only-of-type {\n",
       "        vertical-align: middle;\n",
       "    }\n",
       "\n",
       "    .dataframe tbody tr th {\n",
       "        vertical-align: top;\n",
       "    }\n",
       "\n",
       "    .dataframe thead th {\n",
       "        text-align: right;\n",
       "    }\n",
       "</style>\n",
       "<table border=\"1\" class=\"dataframe\">\n",
       "  <thead>\n",
       "    <tr style=\"text-align: right;\">\n",
       "      <th></th>\n",
       "      <th>Tipo</th>\n",
       "      <th>Bairro</th>\n",
       "      <th>Quartos</th>\n",
       "      <th>Vagas</th>\n",
       "      <th>Suites</th>\n",
       "      <th>Area</th>\n",
       "      <th>Valor</th>\n",
       "      <th>Condominio</th>\n",
       "      <th>IPTU</th>\n",
       "      <th>Valor m2</th>\n",
       "      <th>Tipo Agregado</th>\n",
       "    </tr>\n",
       "  </thead>\n",
       "  <tbody>\n",
       "    <tr>\n",
       "      <th>0</th>\n",
       "      <td>Quitinete</td>\n",
       "      <td>Copacabana</td>\n",
       "      <td>1</td>\n",
       "      <td>0</td>\n",
       "      <td>0</td>\n",
       "      <td>40</td>\n",
       "      <td>1700.0</td>\n",
       "      <td>500.0</td>\n",
       "      <td>60.0</td>\n",
       "      <td>42.500000</td>\n",
       "      <td>Apartamento</td>\n",
       "    </tr>\n",
       "    <tr>\n",
       "      <th>1</th>\n",
       "      <td>Casa</td>\n",
       "      <td>Jardim Botânico</td>\n",
       "      <td>2</td>\n",
       "      <td>0</td>\n",
       "      <td>1</td>\n",
       "      <td>100</td>\n",
       "      <td>7000.0</td>\n",
       "      <td>0.0</td>\n",
       "      <td>0.0</td>\n",
       "      <td>70.000000</td>\n",
       "      <td>Casa</td>\n",
       "    </tr>\n",
       "    <tr>\n",
       "      <th>2</th>\n",
       "      <td>Apartamento</td>\n",
       "      <td>Centro</td>\n",
       "      <td>1</td>\n",
       "      <td>0</td>\n",
       "      <td>0</td>\n",
       "      <td>15</td>\n",
       "      <td>800.0</td>\n",
       "      <td>390.0</td>\n",
       "      <td>20.0</td>\n",
       "      <td>53.333333</td>\n",
       "      <td>Apartamento</td>\n",
       "    </tr>\n",
       "    <tr>\n",
       "      <th>3</th>\n",
       "      <td>Apartamento</td>\n",
       "      <td>Higienópolis</td>\n",
       "      <td>1</td>\n",
       "      <td>0</td>\n",
       "      <td>0</td>\n",
       "      <td>48</td>\n",
       "      <td>800.0</td>\n",
       "      <td>230.0</td>\n",
       "      <td>0.0</td>\n",
       "      <td>16.666667</td>\n",
       "      <td>Apartamento</td>\n",
       "    </tr>\n",
       "    <tr>\n",
       "      <th>4</th>\n",
       "      <td>Apartamento</td>\n",
       "      <td>Vista Alegre</td>\n",
       "      <td>3</td>\n",
       "      <td>1</td>\n",
       "      <td>0</td>\n",
       "      <td>70</td>\n",
       "      <td>1200.0</td>\n",
       "      <td>0.0</td>\n",
       "      <td>0.0</td>\n",
       "      <td>17.142857</td>\n",
       "      <td>Apartamento</td>\n",
       "    </tr>\n",
       "    <tr>\n",
       "      <th>5</th>\n",
       "      <td>Apartamento</td>\n",
       "      <td>Cachambi</td>\n",
       "      <td>2</td>\n",
       "      <td>0</td>\n",
       "      <td>0</td>\n",
       "      <td>50</td>\n",
       "      <td>1300.0</td>\n",
       "      <td>301.0</td>\n",
       "      <td>17.0</td>\n",
       "      <td>26.000000</td>\n",
       "      <td>Apartamento</td>\n",
       "    </tr>\n",
       "    <tr>\n",
       "      <th>6</th>\n",
       "      <td>Casa de Condomínio</td>\n",
       "      <td>Barra da Tijuca</td>\n",
       "      <td>5</td>\n",
       "      <td>4</td>\n",
       "      <td>5</td>\n",
       "      <td>750</td>\n",
       "      <td>22000.0</td>\n",
       "      <td>0.0</td>\n",
       "      <td>0.0</td>\n",
       "      <td>29.333333</td>\n",
       "      <td>Casa</td>\n",
       "    </tr>\n",
       "    <tr>\n",
       "      <th>7</th>\n",
       "      <td>Casa de Condomínio</td>\n",
       "      <td>Ramos</td>\n",
       "      <td>2</td>\n",
       "      <td>2</td>\n",
       "      <td>0</td>\n",
       "      <td>65</td>\n",
       "      <td>1000.0</td>\n",
       "      <td>0.0</td>\n",
       "      <td>0.0</td>\n",
       "      <td>15.384615</td>\n",
       "      <td>Casa</td>\n",
       "    </tr>\n",
       "    <tr>\n",
       "      <th>8</th>\n",
       "      <td>Apartamento</td>\n",
       "      <td>Centro</td>\n",
       "      <td>1</td>\n",
       "      <td>0</td>\n",
       "      <td>0</td>\n",
       "      <td>36</td>\n",
       "      <td>1200.0</td>\n",
       "      <td>0.0</td>\n",
       "      <td>0.0</td>\n",
       "      <td>33.333333</td>\n",
       "      <td>Apartamento</td>\n",
       "    </tr>\n",
       "    <tr>\n",
       "      <th>9</th>\n",
       "      <td>Apartamento</td>\n",
       "      <td>Grajaú</td>\n",
       "      <td>2</td>\n",
       "      <td>1</td>\n",
       "      <td>0</td>\n",
       "      <td>70</td>\n",
       "      <td>1500.0</td>\n",
       "      <td>642.0</td>\n",
       "      <td>74.0</td>\n",
       "      <td>21.428571</td>\n",
       "      <td>Apartamento</td>\n",
       "    </tr>\n",
       "  </tbody>\n",
       "</table>\n",
       "</div>"
      ],
      "text/plain": [
       "                 Tipo           Bairro  Quartos  Vagas  Suites  Area    Valor  \\\n",
       "0           Quitinete       Copacabana        1      0       0    40   1700.0   \n",
       "1                Casa  Jardim Botânico        2      0       1   100   7000.0   \n",
       "2         Apartamento           Centro        1      0       0    15    800.0   \n",
       "3         Apartamento     Higienópolis        1      0       0    48    800.0   \n",
       "4         Apartamento     Vista Alegre        3      1       0    70   1200.0   \n",
       "5         Apartamento         Cachambi        2      0       0    50   1300.0   \n",
       "6  Casa de Condomínio  Barra da Tijuca        5      4       5   750  22000.0   \n",
       "7  Casa de Condomínio            Ramos        2      2       0    65   1000.0   \n",
       "8         Apartamento           Centro        1      0       0    36   1200.0   \n",
       "9         Apartamento           Grajaú        2      1       0    70   1500.0   \n",
       "\n",
       "   Condominio  IPTU   Valor m2 Tipo Agregado  \n",
       "0       500.0  60.0  42.500000   Apartamento  \n",
       "1         0.0   0.0  70.000000          Casa  \n",
       "2       390.0  20.0  53.333333   Apartamento  \n",
       "3       230.0   0.0  16.666667   Apartamento  \n",
       "4         0.0   0.0  17.142857   Apartamento  \n",
       "5       301.0  17.0  26.000000   Apartamento  \n",
       "6         0.0   0.0  29.333333          Casa  \n",
       "7         0.0   0.0  15.384615          Casa  \n",
       "8         0.0   0.0  33.333333   Apartamento  \n",
       "9       642.0  74.0  21.428571   Apartamento  "
      ]
     },
     "execution_count": 2,
     "metadata": {},
     "output_type": "execute_result"
    }
   ],
   "source": [
    "dados = pd.read_csv('dados/aluguel_residencial.csv', sep=';')\n",
    "dados.head(10)"
   ]
  },
  {
   "cell_type": "code",
   "execution_count": 4,
   "metadata": {},
   "outputs": [],
   "source": [
    "valor = dados['Valor']"
   ]
  },
  {
   "cell_type": "code",
   "execution_count": 5,
   "metadata": {},
   "outputs": [],
   "source": [
    "q1 = valor.quantile(.25)"
   ]
  },
  {
   "cell_type": "code",
   "execution_count": 6,
   "metadata": {},
   "outputs": [],
   "source": [
    "q3 = valor.quantile(.75)"
   ]
  },
  {
   "cell_type": "code",
   "execution_count": 10,
   "metadata": {},
   "outputs": [],
   "source": [
    "iiq = q3 - q1"
   ]
  },
  {
   "cell_type": "code",
   "execution_count": 11,
   "metadata": {},
   "outputs": [],
   "source": [
    "limite_inferior = q1 - 1.5 * iiq\n",
    "limite_superior = q3 + 1.5 * iiq"
   ]
  },
  {
   "cell_type": "code",
   "execution_count": 12,
   "metadata": {},
   "outputs": [],
   "source": [
    "selecao = (valor < limite_superior) & (valor > limite_inferior)"
   ]
  },
  {
   "cell_type": "code",
   "execution_count": 13,
   "metadata": {},
   "outputs": [
    {
     "data": {
      "text/plain": [
       "<AxesSubplot:>"
      ]
     },
     "execution_count": 13,
     "metadata": {},
     "output_type": "execute_result"
    },
    {
     "data": {
      "image/png": "[encoded data removed]",
      "text/plain": [
       "<Figure size 1008x432 with 1 Axes>"
      ]
     },
     "metadata": {
      "needs_background": "light"
     },
     "output_type": "display_data"
    }
   ],
   "source": [
    "dados_new = dados[selecao]\n",
    "dados_new.boxplot()"
   ]
  },
  {
   "cell_type": "code",
   "execution_count": 14,
   "metadata": {},
   "outputs": [
    {
     "data": {
      "text/plain": [
       "<AxesSubplot:>"
      ]
     },
     "execution_count": 14,
     "metadata": {},
     "output_type": "execute_result"
    },
    {
     "data": {
      "image/png": "[encoded data removed]",
      "text/plain": [
       "<Figure size 1008x432 with 1 Axes>"
      ]
     },
     "metadata": {
      "needs_background": "light"
     },
     "output_type": "display_data"
    }
   ],
   "source": [
    "dados_new.boxplot(['Valor'])"
   ]
  },
  {
   "cell_type": "code",
   "execution_count": 15,
   "metadata": {},
   "outputs": [
    {
     "data": {
      "text/plain": [
       "array([[<AxesSubplot:title={'center':'Valor'}>]], dtype=object)"
      ]
     },
     "execution_count": 15,
     "metadata": {},
     "output_type": "execute_result"
    },
    {
     "data": {
      "image/png": "[encoded data removed]",
      "text/plain": [
       "<Figure size 1008x432 with 1 Axes>"
      ]
     },
     "metadata": {
      "needs_background": "light"
     },
     "output_type": "display_data"
    },
    {
     "data": {
      "image/png": "[encoded data removed]",
      "text/plain": [
       "<Figure size 1008x432 with 1 Axes>"
      ]
     },
     "metadata": {
      "needs_background": "light"
     },
     "output_type": "display_data"
    }
   ],
   "source": [
    "dados_new.hist(['Valor'])\n",
    "dados.hist(['Valor'])"
   ]
  },
  {
   "cell_type": "code",
   "execution_count": 17,
   "metadata": {},
   "outputs": [
    {
     "data": {
      "text/plain": [
       "<AxesSubplot:>"
      ]
     },
     "execution_count": 17,
     "metadata": {},
     "output_type": "execute_result"
    },
    {
     "data": {
      "image/png": "[encoded data removed]",
      "text/plain": [
       "<Figure size 1008x432 with 1 Axes>"
      ]
     },
     "metadata": {
      "needs_background": "light"
     },
     "output_type": "display_data"
    }
   ],
   "source": [
    "valor_m2 = dados['Valor m2']\n",
    "q1_m2 = valor_m2.quantile(.25)\n",
    "q1_m2\n",
    "q3_m2 = valor_m2.quantile(.75)\n",
    "q3_m2\n",
    "iiq_m2 = q3_m2 - q1_m2\n",
    "iiq_m2\n",
    "limite_inferior_m2 = q1_m2 - 1.5 * iiq_m2\n",
    "limite_inferior_m2\n",
    "limite_superior_m2 = q3_m2 + 1.5 * iiq_m2\n",
    "limite_superior_m2\n",
    "selecao = (valor_m2 >= limite_inferior_m2) & (valor_m2 <= limite_superior_m2)\n",
    "dados_new1 = dados[selecao]\n",
    "dados_new1.boxplot(['Valor m2'])"
   ]
  },
  {
   "cell_type": "code",
   "execution_count": 18,
   "metadata": {},
   "outputs": [
    {
     "data": {
      "text/plain": [
       "21.05263157894737"
      ]
     },
     "execution_count": 18,
     "metadata": {},
     "output_type": "execute_result"
    }
   ],
   "source": [
    "q1_m2"
   ]
  },
  {
   "cell_type": "markdown",
   "metadata": {},
   "source": [
    "## Identificando e removendo outliers (continuação)"
   ]
  },
  {
   "cell_type": "code",
   "execution_count": 19,
   "metadata": {},
   "outputs": [
    {
     "data": {
      "text/plain": [
       "{'Apartamento': [2, 3, 4, 5, 8, 9, 10, 11, 13, 17, 18, 19, 21, 22, 24, 25, 26, 28, 29, 30, 31, 32, 34, 35, 36, 37, 38, 39, 40, 41, 42, 43, 44, 45, 46, 48, 49, 50, 51, 52, 53, 54, 55, 56, 57, 58, 60, 61, 64, 65, 66, 67, 68, 69, 70, 71, 72, 73, 74, 75, 77, 78, 79, 80, 81, 82, 84, 85, 86, 88, 89, 90, 91, 93, 94, 95, 96, 97, 98, 99, 100, 101, 103, 104, 105, 108, 109, 110, 111, 112, 113, 114, 115, 116, 117, 118, 119, 120, 121, 122, ...], 'Casa': [1, 27, 59, 62, 102, 106, 154, 170, 192, 255, 267, 270, 281, 305, 329, 335, 353, 359, 377, 398, 405, 419, 445, 455, 496, 497, 503, 537, 570, 571, 596, 600, 601, 649, 652, 661, 667, 668, 694, 711, 735, 756, 760, 796, 807, 818, 897, 915, 983, 1033, 1082, 1090, 1176, 1181, 1183, 1217, 1239, 1315, 1322, 1386, 1405, 1420, 1443, 1488, 1502, 1506, 1519, 1524, 1552, 1555, 1569, 1671, 1691, 1748, 1754, 1758, 1765, 1778, 1805, 1813, 1861, 1914, 1939, 1980, 2011, 2041, 2050, 2068, 2134, 2154, 2171, 2191, 2219, 2225, 2226, 2253, 2292, 2325, 2328, 2335, ...], 'Casa de Condomínio': [6, 7, 16, 20, 47, 63, 176, 178, 195, 223, 238, 263, 276, 282, 298, 310, 327, 355, 411, 421, 461, 466, 470, 528, 584, 640, 653, 691, 697, 708, 742, 759, 819, 848, 850, 904, 926, 930, 980, 1004, 1008, 1030, 1037, 1043, 1056, 1060, 1081, 1137, 1151, 1169, 1187, 1208, 1218, 1243, 1285, 1293, 1295, 1305, 1312, 1377, 1382, 1390, 1411, 1427, 1480, 1516, 1517, 1547, 1577, 1614, 1644, 1667, 1686, 1702, 1736, 1809, 1819, 1826, 1855, 1863, 1871, 1905, 1964, 1985, 1988, 2005, 2046, 2146, 2148, 2187, 2274, 2290, 2324, 2350, 2374, 2376, 2459, 2465, 2491, 2505, ...], 'Casa de Vila': [87, 228, 236, 322, 351, 732, 863, 885, 963, 1064, 1423, 1433, 1526, 1573, 1636, 1728, 1763, 1799, 1870, 2204, 2377, 2395, 2582, 2678, 2694, 2754, 2791, 2888, 3010, 3047, 3159, 3166, 3201, 3209, 3510, 3645, 3744, 3944, 4070, 4106, 4109, 4114, 4364, 4419, 4427, 4439, 4624, 4740, 5147, 5490, 5512, 5518, 5543, 5647, 5777, 5909, 5979, 6116, 6147, 6318, 6357, 6408, 6423, 6447, 6465, 6627, 6665, 6732, 6784, 6841, 6868, 7216, 7258, 7414, 7433, 7514, 7577, 7635, 7804, 8228, 8245, 8319, 8380, 8386, 8518, 8559, 8695, 9010, 9037, 9174, 9858, 9864, 9953, 10124, 10279, 10286, 10391, 10414, 10465, 10555, ...], 'Chácara': [1514], 'Flat': [15, 23, 149, 150, 206, 284, 472, 553, 595, 758, 808, 823, 905, 942, 944, 1066, 1087, 1119, 1145, 1166, 1253, 1269, 1331, 1424, 1435, 1478, 1483, 1487, 1518, 1572, 1688, 1722, 1761, 1785, 1851, 1887, 1902, 1910, 1966, 2036, 2192, 2338, 2358, 2413, 2452, 2471, 2604, 2605, 2649, 2671, 2685, 2717, 2795, 2805, 2828, 2841, 2875, 2902, 2921, 2948, 2997, 3017, 3079, 3175, 3222, 3249, 3254, 3270, 3278, 3288, 3305, 3328, 3355, 3384, 3421, 3476, 3504, 3517, 3612, 3794, 3830, 3837, 3854, 3951, 3985, 4083, 4115, 4133, 4201, 4203, 4254, 4379, 4525, 4599, 4627, 4633, 4644, 4654, 4839, 4863, ...], 'Prédio Inteiro': [14, 222, 247, 356, 526, 679, 979, 1020, 1191, 1290, 1533, 1663, 1745, 2012, 2098, 2118, 2213, 2305, 2438, 2528, 2543, 2603, 2657, 2701, 2761, 2817, 3182, 3216, 3217, 3441, 3491, 3562, 3624, 3687, 3737, 3771, 3775, 3812, 3819, 3883, 3898, 4136, 4172, 4213, 4292, 4411, 4426, 4448, 4565, 4603, 4610, 4655, 4785, 4931, 4958, 5005, 5143, 5302, 5516, 5519, 5607, 5665, 5743, 5771, 5835, 5955, 5963, 6010, 6066, 6077, 6144, 6364, 6410, 6558, 6590, 6635, 6785, 7074, 7268, 7271, 7367, 7393, 7450, 7551, 7604, 7620, 7652, 7658, 7773, 7801, 7880, 7887, 7939, 8048, 8227, 8526, 8624, 8737, 8783, 8791, ...], 'Quitinete': [0, 12, 33, 76, 83, 92, 107, 127, 156, 185, 204, 221, 239, 265, 320, 333, 346, 364, 375, 446, 447, 448, 482, 509, 559, 664, 684, 715, 849, 912, 962, 964, 969, 973, 985, 990, 1017, 1053, 1069, 1098, 1125, 1216, 1230, 1232, 1245, 1255, 1259, 1277, 1282, 1327, 1341, 1404, 1421, 1431, 1465, 1477, 1481, 1563, 1578, 1592, 1626, 1680, 1698, 1700, 1721, 1791, 1792, 1802, 1831, 1852, 1873, 1928, 1943, 1957, 2017, 2127, 2202, 2216, 2244, 2264, 2271, 2278, 2282, 2353, 2364, 2367, 2386, 2400, 2458, 2496, 2516, 2517, 2518, 2529, 2581, 2593, 2598, 2633, 2650, 2780, ...], 'Studio': [4870, 5772, 10578, 19909], 'Sítio': [3038, 3070, 7568, 13204, 14650, 17425, 19002, 19118, 19204, 21332]}"
      ]
     },
     "execution_count": 19,
     "metadata": {},
     "output_type": "execute_result"
    }
   ],
   "source": [
    "grupo_tipo = dados.groupby('Tipo')['Valor']\n",
    "grupo_tipo.groups"
   ]
  },
  {
   "cell_type": "code",
   "execution_count": 20,
   "metadata": {},
   "outputs": [],
   "source": [
    "q1 = grupo_tipo.quantile(.25)\n",
    "q3 = grupo_tipo.quantile(.75)\n",
    "iiq = q3 - q1\n",
    "limite_inferior = q1 - 1.5 * iiq\n",
    "limite_superior = q3 + 1.5 * iiq"
   ]
  },
  {
   "cell_type": "code",
   "execution_count": 21,
   "metadata": {},
   "outputs": [
    {
     "data": {
      "text/plain": [
       "Tipo\n",
       "Apartamento            1600.0\n",
       "Casa                   1100.0\n",
       "Casa de Condomínio     4000.0\n",
       "Casa de Vila            750.0\n",
       "Chácara                4900.0\n",
       "Flat                   2500.0\n",
       "Prédio Inteiro        14900.0\n",
       "Quitinete               900.0\n",
       "Studio                 1500.0\n",
       "Sítio                  9750.0\n",
       "Name: Valor, dtype: float64"
      ]
     },
     "execution_count": 21,
     "metadata": {},
     "output_type": "execute_result"
    }
   ],
   "source": [
    "q1"
   ]
  },
  {
   "cell_type": "code",
   "execution_count": 22,
   "metadata": {},
   "outputs": [
    {
     "data": {
      "text/plain": [
       "1600.0"
      ]
     },
     "execution_count": 22,
     "metadata": {},
     "output_type": "execute_result"
    }
   ],
   "source": [
    "q1['Apartamento']"
   ]
  },
  {
   "cell_type": "code",
   "execution_count": 23,
   "metadata": {},
   "outputs": [],
   "source": [
    "dados_new = pd.DataFrame()\n",
    "for tipo in grupo_tipo.groups.keys():\n",
    "    eh_tipo = dados['Tipo'] == tipo\n",
    "    eh_dentro_limite = (dados['Valor'] >= limite_inferior[tipo]) & (dados['Valor'] <= limite_superior[tipo])\n",
    "    selecao = eh_tipo & eh_dentro_limite\n",
    "    dados_selecao = dados[selecao]\n",
    "    dados_new = pd.concat([dados_new, dados_selecao])"
   ]
  },
  {
   "cell_type": "code",
   "execution_count": 24,
   "metadata": {},
   "outputs": [
    {
     "data": {
      "text/plain": [
       "<AxesSubplot:title={'center':'Valor'}, xlabel='[Tipo]'>"
      ]
     },
     "execution_count": 24,
     "metadata": {},
     "output_type": "execute_result"
    },
    {
     "data": {
      "image/png": "[encoded data removed]",
      "text/plain": [
       "<Figure size 1008x432 with 1 Axes>"
      ]
     },
     "metadata": {
      "needs_background": "light"
     },
     "output_type": "display_data"
    }
   ],
   "source": [
    "dados_new.boxplot(['Valor'], by= ['Tipo'])"
   ]
  },
  {
   "cell_type": "code",
   "execution_count": 25,
   "metadata": {},
   "outputs": [],
   "source": [
    "dados_new.to_csv('dados/aluguel_residencial_sem_outliers.csv', sep=';', index=False)"
   ]
  },
  {
   "cell_type": "code",
   "execution_count": null,
   "metadata": {},
   "outputs": [],
   "source": []
  }
 ],
 "metadata": {
  "kernelspec": {
   "display_name": "Python 3",
   "language": "python",
   "name": "python3"
  },
  "language_info": {
   "codemirror_mode": {
    "name": "ipython",
    "version": 3
   },
   "file_extension": ".py",
   "mimetype": "text/x-python",
   "name": "python",
   "nbconvert_exporter": "python",
   "pygments_lexer": "ipython3",
   "version": "3.8.5"
  }
 },
 "nbformat": 4,
 "nbformat_minor": 4
}
